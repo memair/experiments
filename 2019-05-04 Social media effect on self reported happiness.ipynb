{
 "cells": [
  {
   "cell_type": "markdown",
   "metadata": {},
   "source": [
    "# Social Media's effect on self reported happiness\n",
    "\n",
    "## Hypothesis\n",
    "Exposure to social media is negatively correlated to self reported happiness.\n",
    "\n",
    "## Experiment\n",
    "The subject will use [Memair DNS](https://memair.com/dns) on their computer & mobile device to pseudorandomly block social media on 50% of days. Every morning of the experiment, the subject will self report their happiness on a scale from 0 to 10 using [Memair emotions](https://memair.com/emotions/new). The nature of the pseduorandonly blocking leads to runs of blocked days followed by runs of unblocked days. In order to counter cross-over effect, the first two days after a state change (from blocked to unblocked or vice versa) will be ignored.\n",
    "\n",
    "The experiment will start on the 4th of May and run for 60 days."
   ]
  },
  {
   "cell_type": "code",
   "execution_count": 1,
   "metadata": {},
   "outputs": [],
   "source": [
    "import yaml\n",
    "with open(\"secrets.yml\", 'r') as stream:\n",
    "    memair_access_token = yaml.safe_load(stream)['memair']['access_token']"
   ]
  },
  {
   "cell_type": "code",
   "execution_count": null,
   "metadata": {},
   "outputs": [],
   "source": []
  }
 ],
 "metadata": {
  "kernelspec": {
   "display_name": "Python 3",
   "language": "python",
   "name": "python3"
  },
  "language_info": {
   "codemirror_mode": {
    "name": "ipython",
    "version": 3
   },
   "file_extension": ".py",
   "mimetype": "text/x-python",
   "name": "python",
   "nbconvert_exporter": "python",
   "pygments_lexer": "ipython3",
   "version": "3.7.3"
  }
 },
 "nbformat": 4,
 "nbformat_minor": 2
}
